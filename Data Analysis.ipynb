{
 "cells": [
  {
   "cell_type": "markdown",
   "metadata": {},
   "source": [
    "Some example datasets can be found from Kaggle or http://www.stat.ufl.edu/~winner/datasets.html"
   ]
  },
 "nbformat": 4,
 "nbformat_minor": 2
}
